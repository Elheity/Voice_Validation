{
 "cells": [
  {
   "cell_type": "code",
   "execution_count": null,
   "id": "80005d4f-14e9-49e4-9b63-a8728a532933",
   "metadata": {},
   "outputs": [],
   "source": []
  },
  {
   "cell_type": "code",
   "execution_count": null,
   "id": "32c92f20-e2fb-4545-bd68-33236d2f0a4e",
   "metadata": {},
   "outputs": [],
   "source": []
  },
  {
   "cell_type": "code",
   "execution_count": 2,
   "id": "8e7b260d-fbe9-4203-8bcc-0f36191829b1",
   "metadata": {
    "tags": []
   },
   "outputs": [],
   "source": [
    "import os\n",
    "import numpy as np\n",
    "import librosa\n",
    "from sklearn.svm import OneClassSVM\n",
    "from sklearn.preprocessing import StandardScaler\n",
    "\n",
    "# Define a function to extract MFCC features from a WAV file\n",
    "def extract_mfcc_features(audio_file_path):\n",
    "    try:\n",
    "        # Load the audio file\n",
    "        audio_data, sample_rate = librosa.load(audio_file_path, sr=None)\n",
    "        \n",
    "        # Extract MFCC features\n",
    "        mfcc_features = librosa.feature.mfcc(y=audio_data, sr=sample_rate, n_mfcc=13)\n",
    "        \n",
    "        # Return the mean of MFCCs as a feature vector\n",
    "        return np.mean(mfcc_features, axis=1)\n",
    "    except Exception as e:\n",
    "        print(f\"Error processing {audio_file_path}: {str(e)}\")\n",
    "        return None\n",
    "\n",
    "# Specify the directory containing your acceptable training audio files\n",
    "training_directory = 'train/1'\n",
    "\n",
    "# Extract MFCC features from acceptable training audio files\n",
    "training_features = []\n",
    "\n",
    "for root, subdirs, files in os.walk(training_directory):\n",
    "    for file in files:\n",
    "        if file.endswith('.wav'):\n",
    "            file_path = os.path.join(root, file)\n",
    "            features = extract_mfcc_features(file_path)\n",
    "            \n",
    "            if features is not None:\n",
    "                training_features.append(features)\n",
    "\n",
    "# Convert training feature vectors to numpy array\n",
    "X_train = np.array(training_features)\n",
    "\n"
   ]
  },
  {
   "cell_type": "code",
   "execution_count": 3,
   "id": "6483589e-485b-4c31-9f16-072ba7851fa9",
   "metadata": {
    "tags": []
   },
   "outputs": [
    {
     "data": {
      "text/plain": [
       "OneClassSVM(nu=0.1)"
      ]
     },
     "execution_count": 3,
     "metadata": {},
     "output_type": "execute_result"
    }
   ],
   "source": [
    "\n",
    "# Standardize the feature vectors\n",
    "scaler = StandardScaler()\n",
    "X_train_standardized = scaler.fit_transform(X_train)\n",
    "\n",
    "# Create and train a One-Class SVM model for novelty detection\n",
    "model = OneClassSVM(kernel='rbf', nu=0.1)  # You can adjust hyperparameters\n",
    "model.fit(X_train_standardized)\n",
    "\n"
   ]
  },
  {
   "cell_type": "code",
   "execution_count": 10,
   "id": "07e345be-ce7b-4d04-b19d-b2490f181e62",
   "metadata": {
    "tags": []
   },
   "outputs": [],
   "source": [
    "testing_directory = 'test_2'\n",
    "# Extract MFCC features from acceptable training audio files\n",
    "testing_features = []\n",
    "\n",
    "for root, subdirs, files in os.walk(testing_directory):\n",
    "    for file in files:\n",
    "        if file.endswith('.wav'):\n",
    "            file_path = os.path.join(root, file)\n",
    "            features = extract_mfcc_features(file_path)\n",
    "            \n",
    "            if features is not None:\n",
    "                testing_features.append(features)\n",
    "\n",
    "# Convert training feature vectors to numpy array\n",
    "testing_features = np.array(testing_features)"
   ]
  },
  {
   "cell_type": "code",
   "execution_count": 11,
   "id": "6e66b437-6da3-4376-9ed8-1fe3b5a2a764",
   "metadata": {
    "tags": []
   },
   "outputs": [
    {
     "name": "stdout",
     "output_type": "stream",
     "text": [
      "Unacceptable\n",
      "Unacceptable\n",
      "Unacceptable\n",
      "Unacceptable\n",
      "Unacceptable\n",
      "Unacceptable\n",
      "Unacceptable\n",
      "Unacceptable\n",
      "Unacceptable\n",
      "Unacceptable\n",
      "Unacceptable\n",
      "Unacceptable\n",
      "Unacceptable\n",
      "Unacceptable\n",
      "Unacceptable\n",
      "Unacceptable\n",
      "Unacceptable\n",
      "Unacceptable\n",
      "Unacceptable\n",
      "Unacceptable\n",
      "Unacceptable\n",
      "Unacceptable\n",
      "Unacceptable\n",
      "Unacceptable\n",
      "Unacceptable\n",
      "Unacceptable\n",
      "Unacceptable\n",
      "Unacceptable\n",
      "Unacceptable\n",
      "Unacceptable\n",
      "Unacceptable\n",
      "Unacceptable\n",
      "Unacceptable\n",
      "Unacceptable\n",
      "Unacceptable\n",
      "Unacceptable\n",
      "Unacceptable\n",
      "Unacceptable\n",
      "Unacceptable\n",
      "Unacceptable\n",
      "Unacceptable\n",
      "Unacceptable\n",
      "Unacceptable\n",
      "Unacceptable\n",
      "Unacceptable\n",
      "Unacceptable\n",
      "Unacceptable\n",
      "Unacceptable\n",
      "Unacceptable\n",
      "Unacceptable\n",
      "Unacceptable\n",
      "Unacceptable\n",
      "Unacceptable\n",
      "Unacceptable\n",
      "Unacceptable\n",
      "Unacceptable\n",
      "Unacceptable\n",
      "Unacceptable\n",
      "Unacceptable\n",
      "Unacceptable\n",
      "Unacceptable\n",
      "Unacceptable\n",
      "Unacceptable\n",
      "Unacceptable\n",
      "Unacceptable\n",
      "Unacceptable\n",
      "Unacceptable\n",
      "Unacceptable\n",
      "Unacceptable\n",
      "Unacceptable\n",
      "Unacceptable\n",
      "Unacceptable\n",
      "Unacceptable\n",
      "Unacceptable\n",
      "Unacceptable\n",
      "Unacceptable\n",
      "Unacceptable\n",
      "Unacceptable\n",
      "Unacceptable\n",
      "Unacceptable\n",
      "Unacceptable\n",
      "Unacceptable\n",
      "Unacceptable\n",
      "Unacceptable\n",
      "Unacceptable\n",
      "Unacceptable\n",
      "Unacceptable\n",
      "Unacceptable\n",
      "Unacceptable\n",
      "Unacceptable\n",
      "Unacceptable\n",
      "Unacceptable\n",
      "Unacceptable\n",
      "Unacceptable\n",
      "Unacceptable\n",
      "Unacceptable\n",
      "Unacceptable\n",
      "Unacceptable\n",
      "Unacceptable\n",
      "Unacceptable\n",
      "Unacceptable\n",
      "Unacceptable\n",
      "Unacceptable\n",
      "Unacceptable\n",
      "Unacceptable\n",
      "Unacceptable\n",
      "Unacceptable\n",
      "Unacceptable\n",
      "Unacceptable\n",
      "Unacceptable\n",
      "Unacceptable\n",
      "Unacceptable\n",
      "Unacceptable\n",
      "Unacceptable\n",
      "Unacceptable\n",
      "Unacceptable\n",
      "Unacceptable\n",
      "Unacceptable\n",
      "Unacceptable\n",
      "Unacceptable\n",
      "Unacceptable\n",
      "Unacceptable\n",
      "Unacceptable\n",
      "Unacceptable\n",
      "Unacceptable\n",
      "Unacceptable\n",
      "Unacceptable\n",
      "Unacceptable\n",
      "Unacceptable\n",
      "Unacceptable\n",
      "Unacceptable\n",
      "Unacceptable\n",
      "Unacceptable\n",
      "Unacceptable\n",
      "Unacceptable\n",
      "Unacceptable\n",
      "Unacceptable\n",
      "Unacceptable\n",
      "Unacceptable\n",
      "Unacceptable\n",
      "Unacceptable\n",
      "Unacceptable\n",
      "Unacceptable\n",
      "Unacceptable\n",
      "Unacceptable\n",
      "Unacceptable\n",
      "Unacceptable\n",
      "Unacceptable\n",
      "Unacceptable\n",
      "Unacceptable\n",
      "Unacceptable\n",
      "Unacceptable\n",
      "Unacceptable\n",
      "Unacceptable\n",
      "Unacceptable\n",
      "Unacceptable\n",
      "Unacceptable\n",
      "Unacceptable\n",
      "Unacceptable\n",
      "Unacceptable\n",
      "Unacceptable\n",
      "Unacceptable\n",
      "Unacceptable\n",
      "Unacceptable\n",
      "Unacceptable\n",
      "Unacceptable\n",
      "Unacceptable\n",
      "Unacceptable\n",
      "Unacceptable\n",
      "Unacceptable\n",
      "Unacceptable\n",
      "Unacceptable\n",
      "Unacceptable\n",
      "Unacceptable\n",
      "Unacceptable\n",
      "Unacceptable\n",
      "Unacceptable\n",
      "Unacceptable\n"
     ]
    }
   ],
   "source": [
    "for test_features in testing_features:\n",
    "    if test_features is not None:\n",
    "        test_features_standardized = scaler.transform(test_features.reshape(1, -1))\n",
    "\n",
    "        # Predict whether the test file is acceptable (1) or unacceptable (-1)\n",
    "        prediction = model.predict(test_features_standardized)\n",
    "\n",
    "        if prediction[0] == 1:\n",
    "            print(\"Acceptable\")\n",
    "        else:\n",
    "            print(\"Unacceptable\")"
   ]
  },
  {
   "cell_type": "code",
   "execution_count": 15,
   "id": "fd28099c-defe-42c8-9a7b-6e92f590c7de",
   "metadata": {
    "tags": []
   },
   "outputs": [
    {
     "name": "stdout",
     "output_type": "stream",
     "text": [
      "Unacceptable\n"
     ]
    }
   ],
   "source": [
    "# Test the model on a new .wav file (test_data)\n",
    "test_audio_file = 'test_2/103.wav'  # Replace with your test audio file\n",
    "test_features = extract_mfcc_features(test_audio_file)\n",
    "\n",
    "if test_features is not None:\n",
    "    test_features_standardized = scaler.transform(test_features.reshape(1, -1))\n",
    "    \n",
    "    # Predict whether the test file is acceptable (1) or unacceptable (-1)\n",
    "    prediction = model.predict(test_features_standardized)\n",
    "    \n",
    "    if prediction[0] == 1:\n",
    "        print(\"Acceptable\")\n",
    "    else:\n",
    "        print(\"Unacceptable\")"
   ]
  },
  {
   "cell_type": "code",
   "execution_count": 16,
   "id": "72e95a66-de9a-4ba6-b3dc-ac0d6ab778f9",
   "metadata": {
    "tags": []
   },
   "outputs": [
    {
     "name": "stdout",
     "output_type": "stream",
     "text": [
      "Unacceptable\n"
     ]
    }
   ],
   "source": [
    "# Test the model on a new .wav file (test_data)\n",
    "test_audio_file = 'test8/output8.wav'  # Replace with your test audio file\n",
    "test_features = extract_mfcc_features(test_audio_file)\n",
    "\n",
    "if test_features is not None:\n",
    "    test_features_standardized = scaler.transform(test_features.reshape(1, -1))\n",
    "    \n",
    "    # Predict whether the test file is acceptable (1) or unacceptable (-1)\n",
    "    prediction = model.predict(test_features_standardized)\n",
    "    \n",
    "    if prediction[0] == 1:\n",
    "        print(\"Acceptable\")\n",
    "    else:\n",
    "        print(\"Unacceptable\")"
   ]
  },
  {
   "cell_type": "code",
   "execution_count": 12,
   "id": "da116df6-e04b-48c6-b74d-68293e67e3ac",
   "metadata": {
    "tags": []
   },
   "outputs": [
    {
     "name": "stdout",
     "output_type": "stream",
     "text": [
      "Acceptable\n"
     ]
    }
   ],
   "source": [
    "# Test the model on a new .wav file (test_data)\n",
    "test_audio_file = 'test_1/scm_05223_02066811815.wav'  # Replace with your test audio file\n",
    "test_features = extract_mfcc_features(test_audio_file)\n",
    "\n",
    "if test_features is not None:\n",
    "    test_features_standardized = scaler.transform(test_features.reshape(1, -1))\n",
    "    \n",
    "    # Predict whether the test file is acceptable (1) or unacceptable (-1)\n",
    "    prediction = model.predict(test_features_standardized)\n",
    "    \n",
    "    if prediction[0] == 1:\n",
    "        print(\"Acceptable\")\n",
    "    else:\n",
    "        print(\"Unacceptable\")"
   ]
  },
  {
   "cell_type": "code",
   "execution_count": 17,
   "id": "63652321-3557-4def-a10d-9babd6a6af4d",
   "metadata": {
    "tags": []
   },
   "outputs": [
    {
     "name": "stdout",
     "output_type": "stream",
     "text": [
      "Acceptable\n"
     ]
    }
   ],
   "source": [
    "# Test the model on a new .wav file (test_data)\n",
    "test_audio_file = 'test_1/scm_06136_00173568860.wav'  # Replace with your test audio file\n",
    "test_features = extract_mfcc_features(test_audio_file)\n",
    "\n",
    "if test_features is not None:\n",
    "    test_features_standardized = scaler.transform(test_features.reshape(1, -1))\n",
    "    \n",
    "    # Predict whether the test file is acceptable (1) or unacceptable (-1)\n",
    "    prediction = model.predict(test_features_standardized)\n",
    "    \n",
    "    if prediction[0] == 1:\n",
    "        print(\"Acceptable\")\n",
    "    else:\n",
    "        print(\"Unacceptable\")"
   ]
  },
  {
   "cell_type": "code",
   "execution_count": null,
   "id": "18af4b02-21a9-4ae6-a544-305fe7e823d7",
   "metadata": {},
   "outputs": [],
   "source": []
  }
 ],
 "metadata": {
  "availableInstances": [
   {
    "_defaultOrder": 0,
    "_isFastLaunch": true,
    "category": "General purpose",
    "gpuNum": 0,
    "hideHardwareSpecs": false,
    "memoryGiB": 4,
    "name": "ml.t3.medium",
    "vcpuNum": 2
   },
   {
    "_defaultOrder": 1,
    "_isFastLaunch": false,
    "category": "General purpose",
    "gpuNum": 0,
    "hideHardwareSpecs": false,
    "memoryGiB": 8,
    "name": "ml.t3.large",
    "vcpuNum": 2
   },
   {
    "_defaultOrder": 2,
    "_isFastLaunch": false,
    "category": "General purpose",
    "gpuNum": 0,
    "hideHardwareSpecs": false,
    "memoryGiB": 16,
    "name": "ml.t3.xlarge",
    "vcpuNum": 4
   },
   {
    "_defaultOrder": 3,
    "_isFastLaunch": false,
    "category": "General purpose",
    "gpuNum": 0,
    "hideHardwareSpecs": false,
    "memoryGiB": 32,
    "name": "ml.t3.2xlarge",
    "vcpuNum": 8
   },
   {
    "_defaultOrder": 4,
    "_isFastLaunch": true,
    "category": "General purpose",
    "gpuNum": 0,
    "hideHardwareSpecs": false,
    "memoryGiB": 8,
    "name": "ml.m5.large",
    "vcpuNum": 2
   },
   {
    "_defaultOrder": 5,
    "_isFastLaunch": false,
    "category": "General purpose",
    "gpuNum": 0,
    "hideHardwareSpecs": false,
    "memoryGiB": 16,
    "name": "ml.m5.xlarge",
    "vcpuNum": 4
   },
   {
    "_defaultOrder": 6,
    "_isFastLaunch": false,
    "category": "General purpose",
    "gpuNum": 0,
    "hideHardwareSpecs": false,
    "memoryGiB": 32,
    "name": "ml.m5.2xlarge",
    "vcpuNum": 8
   },
   {
    "_defaultOrder": 7,
    "_isFastLaunch": false,
    "category": "General purpose",
    "gpuNum": 0,
    "hideHardwareSpecs": false,
    "memoryGiB": 64,
    "name": "ml.m5.4xlarge",
    "vcpuNum": 16
   },
   {
    "_defaultOrder": 8,
    "_isFastLaunch": false,
    "category": "General purpose",
    "gpuNum": 0,
    "hideHardwareSpecs": false,
    "memoryGiB": 128,
    "name": "ml.m5.8xlarge",
    "vcpuNum": 32
   },
   {
    "_defaultOrder": 9,
    "_isFastLaunch": false,
    "category": "General purpose",
    "gpuNum": 0,
    "hideHardwareSpecs": false,
    "memoryGiB": 192,
    "name": "ml.m5.12xlarge",
    "vcpuNum": 48
   },
   {
    "_defaultOrder": 10,
    "_isFastLaunch": false,
    "category": "General purpose",
    "gpuNum": 0,
    "hideHardwareSpecs": false,
    "memoryGiB": 256,
    "name": "ml.m5.16xlarge",
    "vcpuNum": 64
   },
   {
    "_defaultOrder": 11,
    "_isFastLaunch": false,
    "category": "General purpose",
    "gpuNum": 0,
    "hideHardwareSpecs": false,
    "memoryGiB": 384,
    "name": "ml.m5.24xlarge",
    "vcpuNum": 96
   },
   {
    "_defaultOrder": 12,
    "_isFastLaunch": false,
    "category": "General purpose",
    "gpuNum": 0,
    "hideHardwareSpecs": false,
    "memoryGiB": 8,
    "name": "ml.m5d.large",
    "vcpuNum": 2
   },
   {
    "_defaultOrder": 13,
    "_isFastLaunch": false,
    "category": "General purpose",
    "gpuNum": 0,
    "hideHardwareSpecs": false,
    "memoryGiB": 16,
    "name": "ml.m5d.xlarge",
    "vcpuNum": 4
   },
   {
    "_defaultOrder": 14,
    "_isFastLaunch": false,
    "category": "General purpose",
    "gpuNum": 0,
    "hideHardwareSpecs": false,
    "memoryGiB": 32,
    "name": "ml.m5d.2xlarge",
    "vcpuNum": 8
   },
   {
    "_defaultOrder": 15,
    "_isFastLaunch": false,
    "category": "General purpose",
    "gpuNum": 0,
    "hideHardwareSpecs": false,
    "memoryGiB": 64,
    "name": "ml.m5d.4xlarge",
    "vcpuNum": 16
   },
   {
    "_defaultOrder": 16,
    "_isFastLaunch": false,
    "category": "General purpose",
    "gpuNum": 0,
    "hideHardwareSpecs": false,
    "memoryGiB": 128,
    "name": "ml.m5d.8xlarge",
    "vcpuNum": 32
   },
   {
    "_defaultOrder": 17,
    "_isFastLaunch": false,
    "category": "General purpose",
    "gpuNum": 0,
    "hideHardwareSpecs": false,
    "memoryGiB": 192,
    "name": "ml.m5d.12xlarge",
    "vcpuNum": 48
   },
   {
    "_defaultOrder": 18,
    "_isFastLaunch": false,
    "category": "General purpose",
    "gpuNum": 0,
    "hideHardwareSpecs": false,
    "memoryGiB": 256,
    "name": "ml.m5d.16xlarge",
    "vcpuNum": 64
   },
   {
    "_defaultOrder": 19,
    "_isFastLaunch": false,
    "category": "General purpose",
    "gpuNum": 0,
    "hideHardwareSpecs": false,
    "memoryGiB": 384,
    "name": "ml.m5d.24xlarge",
    "vcpuNum": 96
   },
   {
    "_defaultOrder": 20,
    "_isFastLaunch": false,
    "category": "General purpose",
    "gpuNum": 0,
    "hideHardwareSpecs": true,
    "memoryGiB": 0,
    "name": "ml.geospatial.interactive",
    "supportedImageNames": [
     "sagemaker-geospatial-v1-0"
    ],
    "vcpuNum": 0
   },
   {
    "_defaultOrder": 21,
    "_isFastLaunch": true,
    "category": "Compute optimized",
    "gpuNum": 0,
    "hideHardwareSpecs": false,
    "memoryGiB": 4,
    "name": "ml.c5.large",
    "vcpuNum": 2
   },
   {
    "_defaultOrder": 22,
    "_isFastLaunch": false,
    "category": "Compute optimized",
    "gpuNum": 0,
    "hideHardwareSpecs": false,
    "memoryGiB": 8,
    "name": "ml.c5.xlarge",
    "vcpuNum": 4
   },
   {
    "_defaultOrder": 23,
    "_isFastLaunch": false,
    "category": "Compute optimized",
    "gpuNum": 0,
    "hideHardwareSpecs": false,
    "memoryGiB": 16,
    "name": "ml.c5.2xlarge",
    "vcpuNum": 8
   },
   {
    "_defaultOrder": 24,
    "_isFastLaunch": false,
    "category": "Compute optimized",
    "gpuNum": 0,
    "hideHardwareSpecs": false,
    "memoryGiB": 32,
    "name": "ml.c5.4xlarge",
    "vcpuNum": 16
   },
   {
    "_defaultOrder": 25,
    "_isFastLaunch": false,
    "category": "Compute optimized",
    "gpuNum": 0,
    "hideHardwareSpecs": false,
    "memoryGiB": 72,
    "name": "ml.c5.9xlarge",
    "vcpuNum": 36
   },
   {
    "_defaultOrder": 26,
    "_isFastLaunch": false,
    "category": "Compute optimized",
    "gpuNum": 0,
    "hideHardwareSpecs": false,
    "memoryGiB": 96,
    "name": "ml.c5.12xlarge",
    "vcpuNum": 48
   },
   {
    "_defaultOrder": 27,
    "_isFastLaunch": false,
    "category": "Compute optimized",
    "gpuNum": 0,
    "hideHardwareSpecs": false,
    "memoryGiB": 144,
    "name": "ml.c5.18xlarge",
    "vcpuNum": 72
   },
   {
    "_defaultOrder": 28,
    "_isFastLaunch": false,
    "category": "Compute optimized",
    "gpuNum": 0,
    "hideHardwareSpecs": false,
    "memoryGiB": 192,
    "name": "ml.c5.24xlarge",
    "vcpuNum": 96
   },
   {
    "_defaultOrder": 29,
    "_isFastLaunch": true,
    "category": "Accelerated computing",
    "gpuNum": 1,
    "hideHardwareSpecs": false,
    "memoryGiB": 16,
    "name": "ml.g4dn.xlarge",
    "vcpuNum": 4
   },
   {
    "_defaultOrder": 30,
    "_isFastLaunch": false,
    "category": "Accelerated computing",
    "gpuNum": 1,
    "hideHardwareSpecs": false,
    "memoryGiB": 32,
    "name": "ml.g4dn.2xlarge",
    "vcpuNum": 8
   },
   {
    "_defaultOrder": 31,
    "_isFastLaunch": false,
    "category": "Accelerated computing",
    "gpuNum": 1,
    "hideHardwareSpecs": false,
    "memoryGiB": 64,
    "name": "ml.g4dn.4xlarge",
    "vcpuNum": 16
   },
   {
    "_defaultOrder": 32,
    "_isFastLaunch": false,
    "category": "Accelerated computing",
    "gpuNum": 1,
    "hideHardwareSpecs": false,
    "memoryGiB": 128,
    "name": "ml.g4dn.8xlarge",
    "vcpuNum": 32
   },
   {
    "_defaultOrder": 33,
    "_isFastLaunch": false,
    "category": "Accelerated computing",
    "gpuNum": 4,
    "hideHardwareSpecs": false,
    "memoryGiB": 192,
    "name": "ml.g4dn.12xlarge",
    "vcpuNum": 48
   },
   {
    "_defaultOrder": 34,
    "_isFastLaunch": false,
    "category": "Accelerated computing",
    "gpuNum": 1,
    "hideHardwareSpecs": false,
    "memoryGiB": 256,
    "name": "ml.g4dn.16xlarge",
    "vcpuNum": 64
   },
   {
    "_defaultOrder": 35,
    "_isFastLaunch": false,
    "category": "Accelerated computing",
    "gpuNum": 1,
    "hideHardwareSpecs": false,
    "memoryGiB": 61,
    "name": "ml.p3.2xlarge",
    "vcpuNum": 8
   },
   {
    "_defaultOrder": 36,
    "_isFastLaunch": false,
    "category": "Accelerated computing",
    "gpuNum": 4,
    "hideHardwareSpecs": false,
    "memoryGiB": 244,
    "name": "ml.p3.8xlarge",
    "vcpuNum": 32
   },
   {
    "_defaultOrder": 37,
    "_isFastLaunch": false,
    "category": "Accelerated computing",
    "gpuNum": 8,
    "hideHardwareSpecs": false,
    "memoryGiB": 488,
    "name": "ml.p3.16xlarge",
    "vcpuNum": 64
   },
   {
    "_defaultOrder": 38,
    "_isFastLaunch": false,
    "category": "Accelerated computing",
    "gpuNum": 8,
    "hideHardwareSpecs": false,
    "memoryGiB": 768,
    "name": "ml.p3dn.24xlarge",
    "vcpuNum": 96
   },
   {
    "_defaultOrder": 39,
    "_isFastLaunch": false,
    "category": "Memory Optimized",
    "gpuNum": 0,
    "hideHardwareSpecs": false,
    "memoryGiB": 16,
    "name": "ml.r5.large",
    "vcpuNum": 2
   },
   {
    "_defaultOrder": 40,
    "_isFastLaunch": false,
    "category": "Memory Optimized",
    "gpuNum": 0,
    "hideHardwareSpecs": false,
    "memoryGiB": 32,
    "name": "ml.r5.xlarge",
    "vcpuNum": 4
   },
   {
    "_defaultOrder": 41,
    "_isFastLaunch": false,
    "category": "Memory Optimized",
    "gpuNum": 0,
    "hideHardwareSpecs": false,
    "memoryGiB": 64,
    "name": "ml.r5.2xlarge",
    "vcpuNum": 8
   },
   {
    "_defaultOrder": 42,
    "_isFastLaunch": false,
    "category": "Memory Optimized",
    "gpuNum": 0,
    "hideHardwareSpecs": false,
    "memoryGiB": 128,
    "name": "ml.r5.4xlarge",
    "vcpuNum": 16
   },
   {
    "_defaultOrder": 43,
    "_isFastLaunch": false,
    "category": "Memory Optimized",
    "gpuNum": 0,
    "hideHardwareSpecs": false,
    "memoryGiB": 256,
    "name": "ml.r5.8xlarge",
    "vcpuNum": 32
   },
   {
    "_defaultOrder": 44,
    "_isFastLaunch": false,
    "category": "Memory Optimized",
    "gpuNum": 0,
    "hideHardwareSpecs": false,
    "memoryGiB": 384,
    "name": "ml.r5.12xlarge",
    "vcpuNum": 48
   },
   {
    "_defaultOrder": 45,
    "_isFastLaunch": false,
    "category": "Memory Optimized",
    "gpuNum": 0,
    "hideHardwareSpecs": false,
    "memoryGiB": 512,
    "name": "ml.r5.16xlarge",
    "vcpuNum": 64
   },
   {
    "_defaultOrder": 46,
    "_isFastLaunch": false,
    "category": "Memory Optimized",
    "gpuNum": 0,
    "hideHardwareSpecs": false,
    "memoryGiB": 768,
    "name": "ml.r5.24xlarge",
    "vcpuNum": 96
   },
   {
    "_defaultOrder": 47,
    "_isFastLaunch": false,
    "category": "Accelerated computing",
    "gpuNum": 1,
    "hideHardwareSpecs": false,
    "memoryGiB": 16,
    "name": "ml.g5.xlarge",
    "vcpuNum": 4
   },
   {
    "_defaultOrder": 48,
    "_isFastLaunch": false,
    "category": "Accelerated computing",
    "gpuNum": 1,
    "hideHardwareSpecs": false,
    "memoryGiB": 32,
    "name": "ml.g5.2xlarge",
    "vcpuNum": 8
   },
   {
    "_defaultOrder": 49,
    "_isFastLaunch": false,
    "category": "Accelerated computing",
    "gpuNum": 1,
    "hideHardwareSpecs": false,
    "memoryGiB": 64,
    "name": "ml.g5.4xlarge",
    "vcpuNum": 16
   },
   {
    "_defaultOrder": 50,
    "_isFastLaunch": false,
    "category": "Accelerated computing",
    "gpuNum": 1,
    "hideHardwareSpecs": false,
    "memoryGiB": 128,
    "name": "ml.g5.8xlarge",
    "vcpuNum": 32
   },
   {
    "_defaultOrder": 51,
    "_isFastLaunch": false,
    "category": "Accelerated computing",
    "gpuNum": 1,
    "hideHardwareSpecs": false,
    "memoryGiB": 256,
    "name": "ml.g5.16xlarge",
    "vcpuNum": 64
   },
   {
    "_defaultOrder": 52,
    "_isFastLaunch": false,
    "category": "Accelerated computing",
    "gpuNum": 4,
    "hideHardwareSpecs": false,
    "memoryGiB": 192,
    "name": "ml.g5.12xlarge",
    "vcpuNum": 48
   },
   {
    "_defaultOrder": 53,
    "_isFastLaunch": false,
    "category": "Accelerated computing",
    "gpuNum": 4,
    "hideHardwareSpecs": false,
    "memoryGiB": 384,
    "name": "ml.g5.24xlarge",
    "vcpuNum": 96
   },
   {
    "_defaultOrder": 54,
    "_isFastLaunch": false,
    "category": "Accelerated computing",
    "gpuNum": 8,
    "hideHardwareSpecs": false,
    "memoryGiB": 768,
    "name": "ml.g5.48xlarge",
    "vcpuNum": 192
   },
   {
    "_defaultOrder": 55,
    "_isFastLaunch": false,
    "category": "Accelerated computing",
    "gpuNum": 8,
    "hideHardwareSpecs": false,
    "memoryGiB": 1152,
    "name": "ml.p4d.24xlarge",
    "vcpuNum": 96
   },
   {
    "_defaultOrder": 56,
    "_isFastLaunch": false,
    "category": "Accelerated computing",
    "gpuNum": 8,
    "hideHardwareSpecs": false,
    "memoryGiB": 1152,
    "name": "ml.p4de.24xlarge",
    "vcpuNum": 96
   }
  ],
  "instance_type": "ml.t3.medium",
  "kernelspec": {
   "display_name": "Python 3 (Data Science 3.0)",
   "language": "python",
   "name": "python3__SAGEMAKER_INTERNAL__arn:aws:sagemaker:us-east-1:081325390199:image/sagemaker-data-science-310-v1"
  },
  "language_info": {
   "codemirror_mode": {
    "name": "ipython",
    "version": 3
   },
   "file_extension": ".py",
   "mimetype": "text/x-python",
   "name": "python",
   "nbconvert_exporter": "python",
   "pygments_lexer": "ipython3",
   "version": "3.10.6"
  }
 },
 "nbformat": 4,
 "nbformat_minor": 5
}
